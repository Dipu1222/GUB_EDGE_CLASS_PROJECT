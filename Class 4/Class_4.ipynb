{
  "nbformat": 4,
  "nbformat_minor": 0,
  "metadata": {
    "colab": {
      "provenance": []
    },
    "kernelspec": {
      "name": "python3",
      "display_name": "Python 3"
    },
    "language_info": {
      "name": "python"
    }
  },
  "cells": [
    {
      "cell_type": "code",
      "execution_count": 1,
      "metadata": {
        "colab": {
          "base_uri": "https://localhost:8080/"
        },
        "id": "jtDCMLj6yGZu",
        "outputId": "f965b508-6a8b-4481-fbfa-f8ec5cc6c133"
      },
      "outputs": [
        {
          "output_type": "stream",
          "name": "stdout",
          "text": [
            "[21, 21, 21, 21, 21, 21, 21, 21, 21, 21]\n",
            "Sum:  210\n"
          ]
        }
      ],
      "source": [
        "#using while loop print even or odd sum\n",
        "even = []\n",
        "odd =[]\n",
        "new_even_odd = []\n",
        "i = 1\n",
        "j = 20\n",
        "k=0\n",
        "sum = 0\n",
        "while(i<=20):\n",
        "    odd.append(i)\n",
        "    even.append(j)\n",
        "    j = j-2\n",
        "    i = i+2\n",
        "    sum = sum+(odd[k]+even[k])\n",
        "    new_even_odd.append((odd[k]+even[k]))\n",
        "    k = k+1\n",
        "\n",
        "print(new_even_odd)\n",
        "print(\"Sum: \",sum)"
      ]
    }
  ]
}