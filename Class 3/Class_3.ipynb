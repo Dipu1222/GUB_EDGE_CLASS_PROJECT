{
  "nbformat": 4,
  "nbformat_minor": 0,
  "metadata": {
    "colab": {
      "provenance": []
    },
    "kernelspec": {
      "name": "python3",
      "display_name": "Python 3"
    },
    "language_info": {
      "name": "python"
    }
  },
  "cells": [
    {
      "cell_type": "code",
      "execution_count": 1,
      "metadata": {
        "colab": {
          "base_uri": "https://localhost:8080/"
        },
        "id": "6SnhQmA5u933",
        "outputId": "2895d54c-51ea-451a-b90e-2f4fc7f4c8f6"
      },
      "outputs": [
        {
          "output_type": "stream",
          "name": "stdout",
          "text": [
            "Enter a number: 23\n",
            "23 is an Odd number.\n"
          ]
        }
      ],
      "source": [
        "# Program to check if a number is even or odd\n",
        "\n",
        "# Input from the user\n",
        "num = int(input(\"Enter a number: \"))\n",
        "\n",
        "# Check even or odd\n",
        "if num % 2 == 0:\n",
        "    print(f\"{num} is an Even number.\")\n",
        "else:\n",
        "    print(f\"{num} is an Odd number.\")"
      ]
    },
    {
      "cell_type": "code",
      "source": [
        "# Fial if number is less than 40\n",
        "num = int(input(\"Enter a Number: \"))\n",
        "if(num<40):\n",
        "    print(\"Fail\")\n",
        "else:\n",
        "    print(\"Pass\")"
      ],
      "metadata": {
        "colab": {
          "base_uri": "https://localhost:8080/"
        },
        "id": "6MoYCIqawQYy",
        "outputId": "3254eab1-033a-47c2-9e4e-566326b68a9e"
      },
      "execution_count": 2,
      "outputs": [
        {
          "output_type": "stream",
          "name": "stdout",
          "text": [
            "Enter a Number: 20\n",
            "Fail\n"
          ]
        }
      ]
    },
    {
      "cell_type": "code",
      "source": [
        "# Program to check if a number is positive, negative, or zero\n",
        "\n",
        "# Input from the user\n",
        "num = float(input(\"Enter a number: \"))\n",
        "\n",
        "# Check the condition\n",
        "if num > 0:\n",
        "    print(f\"{num} is a Positive number.\")\n",
        "elif num < 0:\n",
        "    print(f\"{num} is a Negative number.\")\n",
        "else:\n",
        "    print(\"The number is Zero.\")\n"
      ],
      "metadata": {
        "colab": {
          "base_uri": "https://localhost:8080/"
        },
        "id": "KEmbf487wi4Z",
        "outputId": "449e0db7-686d-4abf-e9f0-d8813c4c59f2"
      },
      "execution_count": 3,
      "outputs": [
        {
          "output_type": "stream",
          "name": "stdout",
          "text": [
            "Enter a number: -20\n",
            "-20.0 is a Negative number.\n"
          ]
        }
      ]
    },
    {
      "cell_type": "code",
      "source": [
        "# Program to assign a grade based on score\n",
        "\n",
        "# Get score input from user\n",
        "score = float(input(\"Enter the score (0–100): \"))\n",
        "\n",
        "# Check for valid score range\n",
        "if score < 0 or score > 100:\n",
        "    print(\"Invalid score. Please enter a number between 0 and 100.\")\n",
        "else:\n",
        "    # Assign grade based on score\n",
        "    if score >= 90:\n",
        "        grade = \"A\"\n",
        "    elif score >= 80:\n",
        "        grade = \"B\"\n",
        "    elif score >= 70:\n",
        "        grade = \"C\"\n",
        "    elif score >= 60:\n",
        "        grade = \"D\"\n",
        "    else:\n",
        "        grade = \"F\"\n",
        "\n",
        "    print(f\"Score: {score} → Grade: {grade}\")\n"
      ],
      "metadata": {
        "colab": {
          "base_uri": "https://localhost:8080/"
        },
        "id": "m-JWeWczxexY",
        "outputId": "6305abeb-f830-40e4-87af-30491df0746d"
      },
      "execution_count": 4,
      "outputs": [
        {
          "output_type": "stream",
          "name": "stdout",
          "text": [
            "Enter the score (0–100): 79\n",
            "Score: 79.0 → Grade: C\n"
          ]
        }
      ]
    },
    {
      "cell_type": "code",
      "source": [
        "# Program to check if a year is a leap year\n",
        "\n",
        "# Input from the user\n",
        "year = int(input(\"Enter a year: \"))\n",
        "\n",
        "# Leap year logic\n",
        "if (year % 4 == 0):\n",
        "    if (year % 100 == 0):\n",
        "        if (year % 400 == 0):\n",
        "            print(f\"{year} is a Leap Year.\")\n",
        "        else:\n",
        "            print(f\"{year} is NOT a Leap Year.\")\n",
        "    else:\n",
        "        print(f\"{year} is a Leap Year.\")\n",
        "else:\n",
        "    print(f\"{year} is NOT a Leap Year.\")\n"
      ],
      "metadata": {
        "colab": {
          "base_uri": "https://localhost:8080/"
        },
        "id": "pfC6QYBlxqOE",
        "outputId": "0f310605-5c2a-4cc8-cbd3-3790cdcd512b"
      },
      "execution_count": 5,
      "outputs": [
        {
          "output_type": "stream",
          "name": "stdout",
          "text": [
            "Enter a year: 2018\n",
            "2018 is NOT a Leap Year.\n"
          ]
        }
      ]
    }
  ]
}