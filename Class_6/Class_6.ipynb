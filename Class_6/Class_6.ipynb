{
  "nbformat": 4,
  "nbformat_minor": 0,
  "metadata": {
    "colab": {
      "provenance": []
    },
    "kernelspec": {
      "name": "python3",
      "display_name": "Python 3"
    },
    "language_info": {
      "name": "python"
    }
  },
  "cells": [
    {
      "cell_type": "code",
      "execution_count": 5,
      "metadata": {
        "colab": {
          "base_uri": "https://localhost:8080/"
        },
        "id": "_p6Kmgf64Fue",
        "outputId": "b62f95a5-0290-4e25-da2b-790dec3194dc"
      },
      "outputs": [
        {
          "output_type": "stream",
          "name": "stdout",
          "text": [
            "Input: 7\n",
            "7 X 1 = 7\n",
            "7 X 2 = 14\n",
            "7 X 3 = 21\n",
            "7 X 4 = 28\n",
            "7 X 5 = 35\n",
            "7 X 6 = 42\n",
            "7 X 7 = 49\n",
            "7 X 8 = 56\n",
            "7 X 9 = 63\n",
            "7 X 10 = 70\n"
          ]
        }
      ],
      "source": [
        "# Function to print the multiplication table from 1 to 10\n",
        "def multiple(num):\n",
        "    for i in range(1, 11):\n",
        "        mul = num * i\n",
        "        print(f'{num} X {i} = {mul}')\n",
        "\n",
        "# Take user input\n",
        "num = int(input(\"Input: \"))\n",
        "multiple(num)\n",
        "\n"
      ]
    },
    {
      "cell_type": "code",
      "source": [
        "def show_number(num1,num2=3):\n",
        "    print(\"Num1 \",num1)\n",
        "    print('Num2 ',num2)\n",
        "show_number(num1=41)"
      ],
      "metadata": {
        "colab": {
          "base_uri": "https://localhost:8080/"
        },
        "id": "K5DC2_YC450W",
        "outputId": "d35e6551-edc4-4ccf-b86f-7a0fec14cc78"
      },
      "execution_count": 7,
      "outputs": [
        {
          "output_type": "stream",
          "name": "stdout",
          "text": [
            "Num1  41\n",
            "Num2  3\n"
          ]
        }
      ]
    }
  ]
}