{
  "nbformat": 4,
  "nbformat_minor": 0,
  "metadata": {
    "colab": {
      "provenance": []
    },
    "kernelspec": {
      "name": "python3",
      "display_name": "Python 3"
    },
    "language_info": {
      "name": "python"
    }
  },
  "cells": [
    {
      "cell_type": "code",
      "execution_count": 1,
      "metadata": {
        "id": "QkOobL-A3HCx",
        "colab": {
          "base_uri": "https://localhost:8080/"
        },
        "outputId": "11678fd2-5b18-439c-8b8d-7dd45f821c65"
      },
      "outputs": [
        {
          "output_type": "stream",
          "name": "stdout",
          "text": [
            "Enter a string: abba\n",
            "\n",
            "abba\n",
            "abba is plandrome\n"
          ]
        }
      ],
      "source": [
        "#Check palindrome or not\n",
        "string = input(\"Enter a string: \")\n",
        "print(string[0:11:-1])\n",
        "if string == string[::-1]:\n",
        "    print(string[::-1])\n",
        "    print(f\"{string} is plandrome\")\n",
        "else:\n",
        "    print(f\"{string} is not plaindrome\")"
      ]
    },
    {
      "cell_type": "code",
      "source": [
        "#Factorial\n",
        "fact = int(input(\"input factor number: \"))\n",
        "temp = 1\n",
        "for i in range(1,fact+1,1):\n",
        "  temp  = temp*i\n",
        "print(\"The factor is : \",temp)"
      ],
      "metadata": {
        "colab": {
          "base_uri": "https://localhost:8080/"
        },
        "id": "XIdf3T4j3mQK",
        "outputId": "1d916fb9-8f1a-45b3-a7d9-fcf8755d5f97"
      },
      "execution_count": 2,
      "outputs": [
        {
          "output_type": "stream",
          "name": "stdout",
          "text": [
            "input factor number: 5\n",
            "The factor is :  120\n"
          ]
        }
      ]
    }
  ]
}